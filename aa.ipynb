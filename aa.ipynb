{
 "cells": [
  {
   "cell_type": "code",
   "execution_count": 2,
   "metadata": {},
   "outputs": [],
   "source": [
    "import json\n",
    "RegisteredData_path = './registered_data.json'\n",
    "with open(RegisteredData_path, 'r', encoding='utf-8') as file:\n",
    "    registered_data = json.load(file)"
   ]
  },
  {
   "cell_type": "code",
   "execution_count": 3,
   "metadata": {},
   "outputs": [
    {
     "name": "stdout",
     "output_type": "stream",
     "text": [
      "start--------------\n",
      "<class 'str'>\n",
      "data: [[['烤吧！', '焼いてよし！', None, None, 3, None, None, [[], []], [[['f440f9c4f72e9d5fe621695863997fbf', 'ja_en_2022q2.md']], [['041e86f75565b6341f86f9972f755ac9', 'en_zh_2021q4.md']]]], ['煮熟的玉米。', '茹でてよしのトウモロコシ。', None, None, 3, None, None, [[], []], [[['f440f9c4f72e9d5fe621695863997fbf', 'ja_en_2022q2.md']], [['041e86f75565b6341f86f9972f755ac9', 'en_zh_2021q4.md']]]], ['如果熱煮的玉米好吃的話，即使玉米皮卡在牙齒裡，也是可以忍受的程度。', 'アツアツの茹でトウモロコシの美味しさったら、歯にトウモロコシの皮がはさまっても余裕で許せるレベル。', None, None, 3, None, None, [[], []], [[['f440f9c4f72e9d5fe621695863997fbf', 'ja_en_2022q2.md']], [['041e86f75565b6341f86f9972f755ac9', 'en_zh_2021q4.md']]]], ['它又甜又脆，很好吃！', '甘くてシャキシャキ、美味しいんだわん！', None, None, 3, None, None, [[], []], [[['f440f9c4f72e9d5fe621695863997fbf', 'ja_en_2022q2.md']], [['041e86f75565b6341f86f9972f755ac9', 'en_zh_2021q4.md']]]]], None, 'ja', None, None, None, 1, [], [['ja'], None, [1], ['ja']]]\n",
      "------------------------\n",
      "start--------------\n",
      "start--------------\n",
      "<class 'str'>\n",
      "data: [[['對了，關於煮玉米，準備一個鍋，燒水，剝葉子……啊，好麻煩！', 'さて、そんな茹でトウモロコシですが、鍋を用意して、湯を沸騰させて、葉っぱを剥いて……あーっ、めんどくさい！', None, None, 3, None, None, [[], []], [[['f440f9c4f72e9d5fe621695863997fbf', 'ja_en_2022q2.md']], [['041e86f75565b6341f86f9972f755ac9', 'en_zh_2021q4.md']]]], ['有時我會想。', 'と思うときもたまにあります。', None, None, 3, None, None, [[], []], [[['f440f9c4f72e9d5fe621695863997fbf', 'ja_en_2022q2.md']], [['041e86f75565b6341f86f9972f755ac9', 'en_zh_2021q4.md']]]], ['但別擔心。', 'でもご安心ください。', None, None, 3, None, None, [[], []], [[['f440f9c4f72e9d5fe621695863997fbf', 'ja_en_2022q2.md']], [['041e86f75565b6341f86f9972f755ac9', 'en_zh_2021q4.md']]]], ['只在微波爐裡下巴就可以了。', '電子レンジでチンするだけでOKなのです。', None, None, 3, None, None, [[], []], [[['f440f9c4f72e9d5fe621695863997fbf', 'ja_en_2022q2.md']], [['041e86f75565b6341f86f9972f755ac9', 'en_zh_2021q4.md']]]], ['不需要剝葉子。', '葉っぱを剥く必要もありません。', None, None, 3, None, None, [[], []], [[['f440f9c4f72e9d5fe621695863997fbf', 'ja_en_2022q2.md']], [['041e86f75565b6341f86f9972f755ac9', 'en_zh_2021q4.md']]]], ['你可以在5分鐘內完成！', 'しかも5分くらいでできちゃうよ！', None, None, 3, None, None, [[], []], [[['f440f9c4f72e9d5fe621695863997fbf', 'ja_en_2022q2.md']], [['041e86f75565b6341f86f9972f755ac9', 'en_zh_2021q4.md']]]]], None, 'ja', None, None, None, 1, [], [['ja'], None, [1], ['ja']]]\n",
      "------------------------\n"
     ]
    },
    {
     "data": {
      "text/plain": [
       "'焼いてよし！茹でてよしのトウモロコシ。アツアツの茹でトウモロコシの美味しさったら、歯にトウモロコシの皮がはさまっても余裕で許せるレベル。甘くてシャキシャキ、美味しいんだわん！\\n烤吧！煮熟的玉米。如果熱煮的玉米好吃的話，即使玉米皮卡在牙齒裡，也是可以忍受的程度。它又甜又脆，很好吃！\\n\\nさて、そんな茹でトウモロコシですが、鍋を用意して、湯を沸騰させて、葉っぱを剥いて……あーっ、めんどくさい！と思うときもたまにあります。でもご安心ください。電子レンジでチンするだけでOKなのです。葉っぱを剥く必要もありません。しかも5分くらいでできちゃうよ！\\n對了，關於煮玉米，準備一個鍋，燒水，剝葉子……啊，好麻煩！有時我會想。但別擔心。只在微波爐裡下巴就可以了。不需要剝葉子。你可以在5分鐘內完成！\\n\\n'"
      ]
     },
     "execution_count": 3,
     "metadata": {},
     "output_type": "execute_result"
    },
    {
     "ename": "",
     "evalue": "",
     "output_type": "error",
     "traceback": [
      "\u001b[1;31mThe Kernel crashed while executing code in the the current cell or a previous cell. Please review the code in the cell(s) to identify a possible cause of the failure. Click <a href='https://aka.ms/vscodeJupyterKernelCrash'>here</a> for more info. View Jupyter <a href='command:jupyter.viewOutput'>log</a> for further details."
     ]
    }
   ],
   "source": [
    "import japToZh as jap\n",
    "string2 = \"\"\"焼いてよし！茹でてよしのトウモロコシ。アツアツの茹でトウモロコシの美味しさったら、歯にトウモロコシの皮がはさまっても余裕で許せるレベル。甘くてシャキシャキ、美味しいんだわん！\n",
    "\n",
    "さて、そんな茹でトウモロコシですが、鍋を用意して、湯を沸騰させて、葉っぱを剥いて……あーっ、めんどくさい！と思うときもたまにあります。でもご安心ください。電子レンジでチンするだけでOKなのです。葉っぱを剥く必要もありません。しかも5分くらいでできちゃうよ！\"\"\"\n",
    "jap.changeString(string2)"
   ]
  },
  {
   "cell_type": "code",
   "execution_count": 1,
   "metadata": {},
   "outputs": [],
   "source": [
    "# import lib\n",
    "import requests\n",
    "import json\n",
    "from bs4 import BeautifulSoup\n",
    "import execjs \n",
    "from urllib import parse\n",
    " \n",
    "class Py4Js():\n",
    " \n",
    "    def __init__(self):\n",
    "        self.ctx = execjs.compile(\"\"\" \n",
    "        function TL(a) { \n",
    "        var k = \"\"; \n",
    "        var b = 406644; \n",
    "        var b1 = 3293161072; \n",
    "        var jd = \".\"; \n",
    "        var $b = \"+-a^+6\"; \n",
    "        var Zb = \"+-3^+b+-f\"; \n",
    "        for (var e = [], f = 0, g = 0; g < a.length; g++) { \n",
    "            var m = a.charCodeAt(g); \n",
    "            128 > m ? e[f++] = m : (2048 > m ? e[f++] = m >> 6 | 192 : (55296 == (m & 64512) && g + 1 < a.length && 56320 == (a.charCodeAt(g + 1) & 64512) ? (m = 65536 + ((m & 1023) << 10) + (a.charCodeAt(++g) & 1023), \n",
    "            e[f++] = m >> 18 | 240, \n",
    "            e[f++] = m >> 12 & 63 | 128) : e[f++] = m >> 12 | 224, \n",
    "            e[f++] = m >> 6 & 63 | 128), \n",
    "            e[f++] = m & 63 | 128) \n",
    "        } \n",
    "        a = b; \n",
    "        for (f = 0; f < e.length; f++) a += e[f], \n",
    "        a = RL(a, $b); \n",
    "        a = RL(a, Zb); \n",
    "        a ^= b1 || 0; \n",
    "        0 > a && (a = (a & 2147483647) + 2147483648); \n",
    "        a %= 1E6; \n",
    "        return a.toString() + jd + (a ^ b) \n",
    "    }; \n",
    "    function RL(a, b) { \n",
    "        var t = \"a\"; \n",
    "        var Yb = \"+\"; \n",
    "        for (var c = 0; c < b.length - 2; c += 3) { \n",
    "            var d = b.charAt(c + 2), \n",
    "            d = d >= t ? d.charCodeAt(0) - 87 : Number(d), \n",
    "            d = b.charAt(c + 1) == Yb ? a >>> d: a << d; \n",
    "            a = b.charAt(c) == Yb ? a + d & 4294967295 : a ^ d \n",
    "        } \n",
    "        return a \n",
    "    } \n",
    "    \"\"\")\n",
    " \n",
    "    def getTk(self, text):\n",
    "        return self.ctx.call(\"TL\", text)\n",
    "class Translate_as_google(object):\n",
    "    def __init__(self, to_language, this_language='auto', read=False):\n",
    "        '''\n",
    "            to_language:要翻译成的语言\n",
    "            this_language:要转换的文字,默认为auto自动\n",
    "            read:在指定位置生成text的朗读文件\n",
    "        '''\n",
    "        self.this_language = this_language\n",
    "        self.to_language = to_language\n",
    "        self.read = read\n",
    " \n",
    "    def open_url(self, url):\n",
    "        '''请求'''\n",
    "        headers = {'User-Agent': 'Mozilla/5.0 (Windows NT 6.1; WOW64; rv:23.0) Gecko/20100101 Firefox/23.0'}\n",
    "        req = requests.get(url=url, headers=headers , timeout=8)\n",
    " \n",
    "        return req\n",
    " \n",
    "    def buildUrl(self):\n",
    "        '''封装请求url\n",
    "            sl:要转换的文字 tl:转换的结果类型 q要输入的文字'''\n",
    "        baseUrl = 'http://translate.google.cn/translate_a/single'\n",
    "        baseUrl += '?client=webapp&'\n",
    "        baseUrl += 'sl=%s&' % self.this_language\n",
    "        baseUrl += 'tl=%s&' % self.to_language\n",
    "        baseUrl += 'hl=zh-CN&'\n",
    "        baseUrl += 'dt=at&'\n",
    "        baseUrl += 'dt=bd&'\n",
    "        baseUrl += 'dt=ex&'\n",
    "        baseUrl += 'dt=ld&'\n",
    "        baseUrl += 'dt=md&'\n",
    "        baseUrl += 'dt=qca&'\n",
    "        baseUrl += 'dt=rw&'\n",
    "        baseUrl += 'dt=rm&'\n",
    "        baseUrl += 'dt=ss&'\n",
    "        baseUrl += 'dt=t&'\n",
    "        baseUrl += 'ie=UTF-8&'\n",
    "        baseUrl += 'oe=UTF-8&'\n",
    "        baseUrl += 'clearbtn=1&'\n",
    "        baseUrl += 'otf=1&'\n",
    "        baseUrl += 'pc=1&'\n",
    "        baseUrl += 'srcrom=0&'\n",
    "        baseUrl += 'ssel=0&'\n",
    "        baseUrl += 'tsel=0&'\n",
    "        baseUrl += 'kc=2&'\n",
    "        baseUrl += 'tk=' + str(self.tk) + '&'\n",
    "        baseUrl += 'q=' + parse.quote(self.text)\n",
    "        return baseUrl\n",
    " \n",
    "    def read_go(self, args):\n",
    "        '''朗读截取\n",
    "        upload:下载到路径及文件名称\n",
    "        return_language:返回的语言类型\n",
    "        '''\n",
    "        upload, return_language = args[0], args[1]\n",
    "        read_translate_url = 'http://translate.google.com/translate_tts?ie=UTF-8&q=%s&tl=%s&total=1&idx=0&textlen=3&tk=%s&client=webapp&prev=input' % (\n",
    "            self.text, return_language, self.tk)\n",
    "        data = self.open_url(read_translate_url) #请求的返回所有数据\n",
    "        with open(upload, 'wb') as f:\n",
    "            f.write(data.content)\n",
    " \n",
    "    def translate(self,text):\n",
    "        '''翻译截取'''\n",
    "        self.text = text\n",
    "        js = Py4Js()\n",
    "        self.tk = js.getTk(self.text)\n",
    " \n",
    "        if len(self.text) > 4891:\n",
    "            raise (\"翻译的长度超过限制！！！\")\n",
    "        url = self.buildUrl()\n",
    "        # print(url)\n",
    "        _result = self.open_url(url)\n",
    "        data = _result.content.decode('utf-8')\n",
    " \n",
    "        tmp = json.loads(data)\n",
    "        jsonArray = tmp[0]\n",
    "        result = None\n",
    "        for jsonItem in jsonArray:\n",
    "            if jsonItem[0]:\n",
    "                if result:\n",
    "                    result = result + \" \" + jsonItem[0]\n",
    "                else:\n",
    "                    result = jsonItem[0]\n",
    "        return result"
   ]
  },
  {
   "cell_type": "code",
   "execution_count": 5,
   "metadata": {},
   "outputs": [],
   "source": [
    "import requests\n",
    "import random\n",
    "import re\n",
    "import queue\n",
    "import threading\n",
    "import csv\n",
    "import json\n",
    "\n",
    "\n",
    "if __name__ == '__main__':\n",
    "    "
   ]
  },
  {
   "cell_type": "code",
   "execution_count": 6,
   "metadata": {},
   "outputs": [
    {
     "ename": "IndexError",
     "evalue": "list assignment index out of range",
     "output_type": "error",
     "traceback": [
      "\u001b[1;31m---------------------------------------------------------------------------\u001b[0m",
      "\u001b[1;31mIndexError\u001b[0m                                Traceback (most recent call last)",
      "\u001b[1;32m<ipython-input-6-ad0230b718ef>\u001b[0m in \u001b[0;36m<module>\u001b[1;34m\u001b[0m\n\u001b[0;32m      1\u001b[0m \u001b[0ma\u001b[0m \u001b[1;33m=\u001b[0m \u001b[1;33m[\u001b[0m\u001b[1;33m]\u001b[0m\u001b[1;33m\u001b[0m\u001b[1;33m\u001b[0m\u001b[0m\n\u001b[1;32m----> 2\u001b[1;33m \u001b[0ma\u001b[0m\u001b[1;33m[\u001b[0m\u001b[1;36m2\u001b[0m\u001b[1;33m]\u001b[0m \u001b[1;33m=\u001b[0m \u001b[1;36m12\u001b[0m\u001b[1;33m\u001b[0m\u001b[1;33m\u001b[0m\u001b[0m\n\u001b[0m",
      "\u001b[1;31mIndexError\u001b[0m: list assignment index out of range"
     ]
    }
   ],
   "source": [
    "a = []\n",
    "a[2] = 12"
   ]
  },
  {
   "cell_type": "code",
   "execution_count": null,
   "metadata": {},
   "outputs": [],
   "source": []
  }
 ],
 "metadata": {
  "kernelspec": {
   "display_name": "Python 3.6.8 64-bit",
   "language": "python",
   "name": "python3"
  },
  "language_info": {
   "codemirror_mode": {
    "name": "ipython",
    "version": 3
   },
   "file_extension": ".py",
   "mimetype": "text/x-python",
   "name": "python",
   "nbconvert_exporter": "python",
   "pygments_lexer": "ipython3",
   "version": "3.6.8"
  },
  "orig_nbformat": 4,
  "vscode": {
   "interpreter": {
    "hash": "3ff1dcc39137d552fbdcd00520b551259cc0f01e49caa082f186f6e80ee2b0d6"
   }
  }
 },
 "nbformat": 4,
 "nbformat_minor": 2
}
