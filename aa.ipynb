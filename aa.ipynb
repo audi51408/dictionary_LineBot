{
 "cells": [
  {
   "cell_type": "code",
   "execution_count": 2,
   "metadata": {},
   "outputs": [],
   "source": [
    "import json\n",
    "RegisteredData_path = './registered_data.json'\n",
    "with open(RegisteredData_path, 'r', encoding='utf-8') as file:\n",
    "    registered_data = json.load(file)"
   ]
  },
  {
   "cell_type": "code",
   "execution_count": 3,
   "metadata": {},
   "outputs": [
    {
     "name": "stdout",
     "output_type": "stream",
     "text": [
      "start--------------\n",
      "<class 'str'>\n",
      "data: [[['烤吧！', '焼いてよし！', None, None, 3, None, None, [[], []], [[['f440f9c4f72e9d5fe621695863997fbf', 'ja_en_2022q2.md']], [['041e86f75565b6341f86f9972f755ac9', 'en_zh_2021q4.md']]]], ['煮熟的玉米。', '茹でてよしのトウモロコシ。', None, None, 3, None, None, [[], []], [[['f440f9c4f72e9d5fe621695863997fbf', 'ja_en_2022q2.md']], [['041e86f75565b6341f86f9972f755ac9', 'en_zh_2021q4.md']]]], ['如果熱煮的玉米好吃的話，即使玉米皮卡在牙齒裡，也是可以忍受的程度。', 'アツアツの茹でトウモロコシの美味しさったら、歯にトウモロコシの皮がはさまっても余裕で許せるレベル。', None, None, 3, None, None, [[], []], [[['f440f9c4f72e9d5fe621695863997fbf', 'ja_en_2022q2.md']], [['041e86f75565b6341f86f9972f755ac9', 'en_zh_2021q4.md']]]], ['它又甜又脆，很好吃！', '甘くてシャキシャキ、美味しいんだわん！', None, None, 3, None, None, [[], []], [[['f440f9c4f72e9d5fe621695863997fbf', 'ja_en_2022q2.md']], [['041e86f75565b6341f86f9972f755ac9', 'en_zh_2021q4.md']]]]], None, 'ja', None, None, None, 1, [], [['ja'], None, [1], ['ja']]]\n",
      "------------------------\n",
      "start--------------\n",
      "start--------------\n",
      "<class 'str'>\n",
      "data: [[['對了，關於煮玉米，準備一個鍋，燒水，剝葉子……啊，好麻煩！', 'さて、そんな茹でトウモロコシですが、鍋を用意して、湯を沸騰させて、葉っぱを剥いて……あーっ、めんどくさい！', None, None, 3, None, None, [[], []], [[['f440f9c4f72e9d5fe621695863997fbf', 'ja_en_2022q2.md']], [['041e86f75565b6341f86f9972f755ac9', 'en_zh_2021q4.md']]]], ['有時我會想。', 'と思うときもたまにあります。', None, None, 3, None, None, [[], []], [[['f440f9c4f72e9d5fe621695863997fbf', 'ja_en_2022q2.md']], [['041e86f75565b6341f86f9972f755ac9', 'en_zh_2021q4.md']]]], ['但別擔心。', 'でもご安心ください。', None, None, 3, None, None, [[], []], [[['f440f9c4f72e9d5fe621695863997fbf', 'ja_en_2022q2.md']], [['041e86f75565b6341f86f9972f755ac9', 'en_zh_2021q4.md']]]], ['只在微波爐裡下巴就可以了。', '電子レンジでチンするだけでOKなのです。', None, None, 3, None, None, [[], []], [[['f440f9c4f72e9d5fe621695863997fbf', 'ja_en_2022q2.md']], [['041e86f75565b6341f86f9972f755ac9', 'en_zh_2021q4.md']]]], ['不需要剝葉子。', '葉っぱを剥く必要もありません。', None, None, 3, None, None, [[], []], [[['f440f9c4f72e9d5fe621695863997fbf', 'ja_en_2022q2.md']], [['041e86f75565b6341f86f9972f755ac9', 'en_zh_2021q4.md']]]], ['你可以在5分鐘內完成！', 'しかも5分くらいでできちゃうよ！', None, None, 3, None, None, [[], []], [[['f440f9c4f72e9d5fe621695863997fbf', 'ja_en_2022q2.md']], [['041e86f75565b6341f86f9972f755ac9', 'en_zh_2021q4.md']]]]], None, 'ja', None, None, None, 1, [], [['ja'], None, [1], ['ja']]]\n",
      "------------------------\n"
     ]
    },
    {
     "data": {
      "text/plain": [
       "'焼いてよし！茹でてよしのトウモロコシ。アツアツの茹でトウモロコシの美味しさったら、歯にトウモロコシの皮がはさまっても余裕で許せるレベル。甘くてシャキシャキ、美味しいんだわん！\\n烤吧！煮熟的玉米。如果熱煮的玉米好吃的話，即使玉米皮卡在牙齒裡，也是可以忍受的程度。它又甜又脆，很好吃！\\n\\nさて、そんな茹でトウモロコシですが、鍋を用意して、湯を沸騰させて、葉っぱを剥いて……あーっ、めんどくさい！と思うときもたまにあります。でもご安心ください。電子レンジでチンするだけでOKなのです。葉っぱを剥く必要もありません。しかも5分くらいでできちゃうよ！\\n對了，關於煮玉米，準備一個鍋，燒水，剝葉子……啊，好麻煩！有時我會想。但別擔心。只在微波爐裡下巴就可以了。不需要剝葉子。你可以在5分鐘內完成！\\n\\n'"
      ]
     },
     "execution_count": 3,
     "metadata": {},
     "output_type": "execute_result"
    },
    {
     "ename": "",
     "evalue": "",
     "output_type": "error",
     "traceback": [
      "\u001b[1;31mThe Kernel crashed while executing code in the the current cell or a previous cell. Please review the code in the cell(s) to identify a possible cause of the failure. Click <a href='https://aka.ms/vscodeJupyterKernelCrash'>here</a> for more info. View Jupyter <a href='command:jupyter.viewOutput'>log</a> for further details."
     ]
    }
   ],
   "source": [
    "import japToZh as jap\n",
    "string2 = \"\"\"焼いてよし！茹でてよしのトウモロコシ。アツアツの茹でトウモロコシの美味しさったら、歯にトウモロコシの皮がはさまっても余裕で許せるレベル。甘くてシャキシャキ、美味しいんだわん！\n",
    "\n",
    "さて、そんな茹でトウモロコシですが、鍋を用意して、湯を沸騰させて、葉っぱを剥いて……あーっ、めんどくさい！と思うときもたまにあります。でもご安心ください。電子レンジでチンするだけでOKなのです。葉っぱを剥く必要もありません。しかも5分くらいでできちゃうよ！\"\"\"\n",
    "jap.changeString(string2)"
   ]
  },
  {
   "cell_type": "code",
   "execution_count": null,
   "metadata": {},
   "outputs": [],
   "source": []
  }
 ],
 "metadata": {
  "kernelspec": {
   "display_name": "Python 3.6.8 64-bit",
   "language": "python",
   "name": "python3"
  },
  "language_info": {
   "codemirror_mode": {
    "name": "ipython",
    "version": 3
   },
   "file_extension": ".py",
   "mimetype": "text/x-python",
   "name": "python",
   "nbconvert_exporter": "python",
   "pygments_lexer": "ipython3",
   "version": "3.6.8"
  },
  "orig_nbformat": 4,
  "vscode": {
   "interpreter": {
    "hash": "3ff1dcc39137d552fbdcd00520b551259cc0f01e49caa082f186f6e80ee2b0d6"
   }
  }
 },
 "nbformat": 4,
 "nbformat_minor": 2
}
